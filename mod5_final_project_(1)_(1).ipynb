{
  "cells": [
    {
      "cell_type": "markdown",
      "metadata": {
        "id": "view-in-github",
        "colab_type": "text"
      },
      "source": [
        "<a href=\"https://colab.research.google.com/github/Ramyasree0707/Chicago-Data-Insights/blob/main/mod5_final_project_(1)_(1).ipynb\" target=\"_parent\"><img src=\"https://colab.research.google.com/assets/colab-badge.svg\" alt=\"Open In Colab\"/></a>"
      ]
    },
    {
      "cell_type": "markdown",
      "source": [
        "#**Chicago Data Insights: Analyzing Socioeconomic, Educational, and Crime Data**"
      ],
      "metadata": {
        "id": "pN8AJ0wPX4NO"
      }
    },
    {
      "cell_type": "markdown",
      "metadata": {
        "id": "vS2xyhXGU2Uf"
      },
      "source": [
        "# Introduction\n",
        "\n",
        "Using this Python notebook you will:\n",
        "\n",
        "1.  Understand three Chicago datasets\n",
        "2.  Load the three datasets into three tables in a SQLIte database\n",
        "3.  Execute SQL queries to answer assignment questions\n"
      ]
    },
    {
      "cell_type": "markdown",
      "metadata": {
        "id": "qsFr0p8eU2Ug"
      },
      "source": [
        "## Understand the datasets\n",
        "\n",
        "To complete the problems in this notebook you will be using three datasets that are available on the city of Chicago's Data Portal:\n",
        "\n",
        "1.  <a href=\"https://data.cityofchicago.org/Health-Human-Services/Census-Data-Selected-socioeconomic-indicators-in-C/kn9c-c2s2?utm_medium=Exinfluencer&utm_source=Exinfluencer&utm_content=000026UJ&utm_term=10006555&utm_id=NA-SkillsNetwork-Channel-SkillsNetworkCoursesIBMDeveloperSkillsNetworkDB0201ENSkillsNetwork20127838-2021-01-01\">Socioeconomic Indicators in Chicago</a>\n",
        "2.  <a href=\"https://data.cityofchicago.org/Education/Chicago-Public-Schools-Progress-Report-Cards-2011-/9xs2-f89t?utm_medium=Exinfluencer&utm_source=Exinfluencer&utm_content=000026UJ&utm_term=10006555&utm_id=NA-SkillsNetwork-Channel-SkillsNetworkCoursesIBMDeveloperSkillsNetworkDB0201ENSkillsNetwork20127838-2021-01-01\">Chicago Public Schools</a>\n",
        "3.  <a href=\"https://data.cityofchicago.org/Public-Safety/Crimes-2001-to-present/ijzp-q8t2?utm_medium=Exinfluencer&utm_source=Exinfluencer&utm_content=000026UJ&utm_term=10006555&utm_id=NA-SkillsNetwork-Channel-SkillsNetworkCoursesIBMDeveloperSkillsNetworkDB0201ENSkillsNetwork20127838-2021-01-01\">Chicago Crime Data</a>\n",
        "\n",
        "### 1. Socioeconomic Indicators in Chicago\n",
        "\n",
        "This dataset contains a selection of six socioeconomic indicators of public health significance and a “hardship index,” for each Chicago community area, for the years 2008 – 2012.\n",
        "\n",
        "A detailed description of this dataset and the original dataset can be obtained from the Chicago Data Portal at:\n",
        "\n",
        "[https://data.cityofchicago.org/Health-Human-Services/Census-Data-Selected-socioeconomic-indicators-in-C/kn9c-c2s2](https://data.cityofchicago.org/Health-Human-Services/Census-Data-Selected-socioeconomic-indicators-in-C/kn9c-c2s2?utm_medium=Exinfluencer&utm_source=Exinfluencer&utm_content=000026UJ&utm_term=10006555&utm_id=NA-SkillsNetwork-Channel-SkillsNetworkCoursesIBMDeveloperSkillsNetworkDB0201ENSkillsNetwork20127838-2021-01-01&cm_mmc=Email_Newsletter-\\_-Developer_Ed%2BTech-\\_-WW_WW-\\_-SkillsNetwork-Courses-IBMDeveloperSkillsNetwork-DB0201EN-SkillsNetwork-20127838&cm_mmca1=000026UJ&cm_mmca2=10006555&cm_mmca3=M12345678&cvosrc=email.Newsletter.M12345678&cvo_campaign=000026UJ)\n",
        "\n",
        "### 2. Chicago Public Schools\n",
        "\n",
        "This dataset shows all school level performance data used to create CPS School Report Cards for the 2011-2012 school year. This dataset is provided by the city of Chicago's Data Portal.\n",
        "\n",
        "A detailed description of this dataset and the original dataset can be obtained from the Chicago Data Portal at:\n",
        "\n",
        "[https://data.cityofchicago.org/Education/Chicago-Public-Schools-Progress-Report-Cards-2011-/9xs2-f89t](https://data.cityofchicago.org/Education/Chicago-Public-Schools-Progress-Report-Cards-2011-/9xs2-f89t?utm_medium=Exinfluencer&utm_source=Exinfluencer&utm_content=000026UJ&utm_term=10006555&utm_id=NA-SkillsNetwork-Channel-SkillsNetworkCoursesIBMDeveloperSkillsNetworkDB0201ENSkillsNetwork20127838-2021-01-01&cm_mmc=Email_Newsletter-\\_-Developer_Ed%2BTech-\\_-WW_WW-\\_-SkillsNetwork-Courses-IBMDeveloperSkillsNetwork-DB0201EN-SkillsNetwork-20127838&cm_mmca1=000026UJ&cm_mmca2=10006555&cm_mmca3=M12345678&cvosrc=email.Newsletter.M12345678&cvo_campaign=000026UJ)\n",
        "\n",
        "### 3. Chicago Crime Data\n",
        "\n",
        "This dataset reflects reported incidents of crime (with the exception of murders where data exists for each victim) that occurred in the City of Chicago from 2001 to present, minus the most recent seven days.\n",
        "\n",
        "A detailed description of this dataset and the original dataset can be obtained from the Chicago Data Portal at:\n",
        "\n",
        "[https://data.cityofchicago.org/Public-Safety/Crimes-2001-to-present/ijzp-q8t2](https://data.cityofchicago.org/Public-Safety/Crimes-2001-to-present/ijzp-q8t2?utm_medium=Exinfluencer&utm_source=Exinfluencer&utm_content=000026UJ&utm_term=10006555&utm_id=NA-SkillsNetwork-Channel-SkillsNetworkCoursesIBMDeveloperSkillsNetworkDB0201ENSkillsNetwork20127838-2021-01-01&cm_mmc=Email_Newsletter-\\_-Developer_Ed%2BTech-\\_-WW_WW-\\_-SkillsNetwork-Courses-IBMDeveloperSkillsNetwork-DB0201EN-SkillsNetwork-20127838&cm_mmca1=000026UJ&cm_mmca2=10006555&cm_mmca3=M12345678&cvosrc=email.Newsletter.M12345678&cvo_campaign=000026UJ)\n"
      ]
    },
    {
      "cell_type": "markdown",
      "metadata": {
        "id": "PthhzWq9U2Uj"
      },
      "source": [
        "### Store the datasets in database tables\n",
        "\n",
        "To analyze the data using SQL, it first needs to be loaded into SQLite DB.\n",
        "We will create three tables in as under:\n",
        "\n",
        "1.  **CENSUS_DATA**\n",
        "2.  **CHICAGO_PUBLIC_SCHOOLS**\n",
        "3.  **CHICAGO_CRIME_DATA**\n"
      ]
    },
    {
      "cell_type": "markdown",
      "metadata": {
        "id": "XGtSxb6dU2Uk"
      },
      "source": [
        "Load the `pandas` and `sqlite3` libraries and establish a connection to `FinalDB.db`\n"
      ]
    },
    {
      "cell_type": "code",
      "execution_count": null,
      "metadata": {
        "tags": [],
        "id": "iEL1aVEhU2Uk"
      },
      "outputs": [],
      "source": [
        "import pandas as pd\n",
        "import sqlite3"
      ]
    },
    {
      "cell_type": "code",
      "execution_count": null,
      "metadata": {
        "tags": [],
        "id": "ck_mQqvNU2Um"
      },
      "outputs": [],
      "source": [
        "conn = sqlite3.connect(\"FinalDB.db\")\n",
        "cur = conn.cursor()"
      ]
    },
    {
      "cell_type": "code",
      "execution_count": null,
      "metadata": {
        "tags": [],
        "id": "kwQt5L_WU2Un"
      },
      "outputs": [],
      "source": [
        "df1 = pd.read_csv('https://cf-courses-data.s3.us.cloud-object-storage.appdomain.cloud/IBMDeveloperSkillsNetwork-DB0201EN-SkillsNetwork/labs/FinalModule_Coursera_V5/data/ChicagoCensusData.csv?utm_medium=Exinfluencer&utm_source=Exinfluencer&utm_content=000026UJ&utm_term=10006555&utm_id=NA-SkillsNetwork-Channel-SkillsNetworkCoursesIBMDeveloperSkillsNetworkDB0201ENSkillsNetwork20127838-2021-01-01')"
      ]
    },
    {
      "cell_type": "code",
      "execution_count": null,
      "metadata": {
        "tags": [],
        "id": "e1P0tY1_U2Un"
      },
      "outputs": [],
      "source": [
        "df2 = pd.read_csv('https://cf-courses-data.s3.us.cloud-object-storage.appdomain.cloud/IBMDeveloperSkillsNetwork-DB0201EN-SkillsNetwork/labs/FinalModule_Coursera_V5/data/ChicagoPublicSchools.csv?utm_medium=Exinfluencer&utm_source=Exinfluencer&utm_content=000026UJ&utm_term=10006555&utm_id=NA-SkillsNetwork-Channel-SkillsNetworkCoursesIBMDeveloperSkillsNetworkDB0201ENSkillsNetwork20127838-2021-01-01')\n",
        "df3 = pd.read_csv('https://cf-courses-data.s3.us.cloud-object-storage.appdomain.cloud/IBMDeveloperSkillsNetwork-DB0201EN-SkillsNetwork/labs/FinalModule_Coursera_V5/data/ChicagoCrimeData.csv?utm_medium=Exinfluencer&utm_source=Exinfluencer&utm_content=000026UJ&utm_term=10006555&utm_id=NA-SkillsNetwork-Channel-SkillsNetworkCoursesIBMDeveloperSkillsNetworkDB0201ENSkillsNetwork20127838-2021-01-01')"
      ]
    },
    {
      "cell_type": "code",
      "execution_count": null,
      "metadata": {
        "tags": [],
        "id": "x_buD3dSU2Uo",
        "outputId": "6116bd03-7a2b-4f20-bdac-bc7237c6c1e5"
      },
      "outputs": [
        {
          "name": "stderr",
          "output_type": "stream",
          "text": [
            "/home/jupyterlab/conda/envs/python/lib/python3.7/site-packages/pandas/core/generic.py:2882: UserWarning: The spaces in these column names will not be changed. In pandas versions < 0.14, spaces were converted to underscores.\n",
            "  method=method,\n"
          ]
        }
      ],
      "source": [
        "df1.to_sql(\"Census_data\", conn, if_exists='replace', index=False, method='multi')\n",
        "df2.to_sql(\"Chicago_public_schools\", conn, if_exists='replace', index=False, method='multi')\n",
        "df3.to_sql(\"Chicago_crime_data\", conn, if_exists='replace', index=False, method='multi')"
      ]
    },
    {
      "cell_type": "markdown",
      "metadata": {
        "id": "N2tW0yEdU2Up"
      },
      "source": [
        "Load the SQL magic module\n"
      ]
    },
    {
      "cell_type": "code",
      "execution_count": null,
      "metadata": {
        "tags": [],
        "id": "GApXwsGnU2Uq"
      },
      "outputs": [],
      "source": [
        "%load_ext sql"
      ]
    },
    {
      "cell_type": "markdown",
      "metadata": {
        "id": "l5uTa9mPU2Ur"
      },
      "source": [
        "Use `Pandas` to load the data available in the links above to dataframes. Use these dataframes to load data on to the database `FinalDB.db` as required tables.\n"
      ]
    },
    {
      "cell_type": "code",
      "execution_count": null,
      "metadata": {
        "tags": [],
        "id": "PoK3iXWjU2Ur",
        "outputId": "fde1c419-7bd9-428f-a370-c8cf81d08968"
      },
      "outputs": [
        {
          "data": {
            "text/plain": [
              "'Connected: @FinalDB.db'"
            ]
          },
          "execution_count": 7,
          "metadata": {},
          "output_type": "execute_result"
        }
      ],
      "source": [
        "%sql sqlite:///FinalDB.db"
      ]
    },
    {
      "cell_type": "markdown",
      "metadata": {
        "id": "gsRIz4r2U2Ur"
      },
      "source": [
        "Establish a connection between SQL magic module and the database `FinalDB.db`\n"
      ]
    },
    {
      "cell_type": "markdown",
      "metadata": {
        "id": "O-1FdnKkU2Ur"
      },
      "source": [
        "You can now proceed to the the following questions. Please note that a graded assignment will follow this lab and there will be a question on each of the problems stated below. It can be from the answer you received or the code you write for this problem. Therefore, please keep a note of both your codes as well as the response you generate.\n"
      ]
    },
    {
      "cell_type": "code",
      "execution_count": null,
      "metadata": {
        "tags": [],
        "id": "iPoddm35U2Us",
        "outputId": "5ba7b89d-e311-4484-fef4-e5ff7ecfc901"
      },
      "outputs": [
        {
          "name": "stdout",
          "output_type": "stream",
          "text": [
            " * sqlite:///FinalDB.db\n",
            "Done.\n"
          ]
        },
        {
          "data": {
            "text/html": [
              "<table>\n",
              "    <thead>\n",
              "        <tr>\n",
              "            <th>name</th>\n",
              "        </tr>\n",
              "    </thead>\n",
              "    <tbody>\n",
              "        <tr>\n",
              "            <td>Census_data</td>\n",
              "        </tr>\n",
              "        <tr>\n",
              "            <td>Chicago_public_schools</td>\n",
              "        </tr>\n",
              "        <tr>\n",
              "            <td>Chicago_crime_data</td>\n",
              "        </tr>\n",
              "    </tbody>\n",
              "</table>"
            ],
            "text/plain": [
              "[('Census_data',), ('Chicago_public_schools',), ('Chicago_crime_data',)]"
            ]
          },
          "execution_count": 8,
          "metadata": {},
          "output_type": "execute_result"
        }
      ],
      "source": [
        "%sql select name from sqlite_master where type='table'"
      ]
    },
    {
      "cell_type": "code",
      "execution_count": null,
      "metadata": {
        "tags": [],
        "id": "1PrlF0erU2Us",
        "outputId": "0f659e17-b08e-49d0-a83c-524784b0c452"
      },
      "outputs": [
        {
          "name": "stdout",
          "output_type": "stream",
          "text": [
            " * sqlite:///FinalDB.db\n",
            "Done.\n"
          ]
        },
        {
          "data": {
            "text/html": [
              "<table>\n",
              "    <thead>\n",
              "        <tr>\n",
              "            <th>cid</th>\n",
              "            <th>name</th>\n",
              "            <th>type</th>\n",
              "            <th>notnull</th>\n",
              "            <th>dflt_value</th>\n",
              "            <th>pk</th>\n",
              "        </tr>\n",
              "    </thead>\n",
              "    <tbody>\n",
              "        <tr>\n",
              "            <td>0</td>\n",
              "            <td>COMMUNITY_AREA_NUMBER</td>\n",
              "            <td>REAL</td>\n",
              "            <td>0</td>\n",
              "            <td>None</td>\n",
              "            <td>0</td>\n",
              "        </tr>\n",
              "        <tr>\n",
              "            <td>1</td>\n",
              "            <td>COMMUNITY_AREA_NAME</td>\n",
              "            <td>TEXT</td>\n",
              "            <td>0</td>\n",
              "            <td>None</td>\n",
              "            <td>0</td>\n",
              "        </tr>\n",
              "        <tr>\n",
              "            <td>2</td>\n",
              "            <td>PERCENT_OF_HOUSING_CROWDED</td>\n",
              "            <td>REAL</td>\n",
              "            <td>0</td>\n",
              "            <td>None</td>\n",
              "            <td>0</td>\n",
              "        </tr>\n",
              "        <tr>\n",
              "            <td>3</td>\n",
              "            <td>PERCENT_HOUSEHOLDS_BELOW_POVERTY</td>\n",
              "            <td>REAL</td>\n",
              "            <td>0</td>\n",
              "            <td>None</td>\n",
              "            <td>0</td>\n",
              "        </tr>\n",
              "        <tr>\n",
              "            <td>4</td>\n",
              "            <td>PERCENT_AGED_16__UNEMPLOYED</td>\n",
              "            <td>REAL</td>\n",
              "            <td>0</td>\n",
              "            <td>None</td>\n",
              "            <td>0</td>\n",
              "        </tr>\n",
              "        <tr>\n",
              "            <td>5</td>\n",
              "            <td>PERCENT_AGED_25__WITHOUT_HIGH_SCHOOL_DIPLOMA</td>\n",
              "            <td>REAL</td>\n",
              "            <td>0</td>\n",
              "            <td>None</td>\n",
              "            <td>0</td>\n",
              "        </tr>\n",
              "        <tr>\n",
              "            <td>6</td>\n",
              "            <td>PERCENT_AGED_UNDER_18_OR_OVER_64</td>\n",
              "            <td>REAL</td>\n",
              "            <td>0</td>\n",
              "            <td>None</td>\n",
              "            <td>0</td>\n",
              "        </tr>\n",
              "        <tr>\n",
              "            <td>7</td>\n",
              "            <td>PER_CAPITA_INCOME</td>\n",
              "            <td>INTEGER</td>\n",
              "            <td>0</td>\n",
              "            <td>None</td>\n",
              "            <td>0</td>\n",
              "        </tr>\n",
              "        <tr>\n",
              "            <td>8</td>\n",
              "            <td>HARDSHIP_INDEX</td>\n",
              "            <td>REAL</td>\n",
              "            <td>0</td>\n",
              "            <td>None</td>\n",
              "            <td>0</td>\n",
              "        </tr>\n",
              "    </tbody>\n",
              "</table>"
            ],
            "text/plain": [
              "[(0, 'COMMUNITY_AREA_NUMBER', 'REAL', 0, None, 0),\n",
              " (1, 'COMMUNITY_AREA_NAME', 'TEXT', 0, None, 0),\n",
              " (2, 'PERCENT_OF_HOUSING_CROWDED', 'REAL', 0, None, 0),\n",
              " (3, 'PERCENT_HOUSEHOLDS_BELOW_POVERTY', 'REAL', 0, None, 0),\n",
              " (4, 'PERCENT_AGED_16__UNEMPLOYED', 'REAL', 0, None, 0),\n",
              " (5, 'PERCENT_AGED_25__WITHOUT_HIGH_SCHOOL_DIPLOMA', 'REAL', 0, None, 0),\n",
              " (6, 'PERCENT_AGED_UNDER_18_OR_OVER_64', 'REAL', 0, None, 0),\n",
              " (7, 'PER_CAPITA_INCOME', 'INTEGER', 0, None, 0),\n",
              " (8, 'HARDSHIP_INDEX', 'REAL', 0, None, 0)]"
            ]
          },
          "execution_count": 9,
          "metadata": {},
          "output_type": "execute_result"
        }
      ],
      "source": [
        "%sql pragma table_info(Census_data)"
      ]
    },
    {
      "cell_type": "markdown",
      "metadata": {
        "id": "xNuuc87pU2Ut"
      },
      "source": [
        "## Problems\n",
        "\n",
        "Now write and execute SQL queries to solve assignment problems\n",
        "\n",
        "### Problem 1\n",
        "\n",
        "##### Find the total number of crimes recorded in the CRIME table.\n"
      ]
    },
    {
      "cell_type": "code",
      "execution_count": null,
      "metadata": {
        "id": "I8uHlG4zU2Ut",
        "outputId": "90e92629-8379-4bf6-c2e9-30f8c309f168"
      },
      "outputs": [
        {
          "name": "stdout",
          "output_type": "stream",
          "text": [
            " * sqlite:///FinalDB.db\n",
            "Done.\n"
          ]
        },
        {
          "data": {
            "text/html": [
              "<table>\n",
              "    <thead>\n",
              "        <tr>\n",
              "            <th>count(*)</th>\n",
              "        </tr>\n",
              "    </thead>\n",
              "    <tbody>\n",
              "        <tr>\n",
              "            <td>533</td>\n",
              "        </tr>\n",
              "    </tbody>\n",
              "</table>"
            ],
            "text/plain": [
              "[(533,)]"
            ]
          },
          "execution_count": 14,
          "metadata": {},
          "output_type": "execute_result"
        }
      ],
      "source": [
        "%sql select count(*) from chicago_crime_data"
      ]
    },
    {
      "cell_type": "markdown",
      "metadata": {
        "id": "InSkL8vnU2Ut"
      },
      "source": [
        "### Problem 2\n",
        "\n",
        "##### List community area names and numbers with per capita income less than 11000.\n"
      ]
    },
    {
      "cell_type": "code",
      "execution_count": null,
      "metadata": {
        "id": "G6sxiZuDU2Ut",
        "outputId": "af06d0ac-764b-40fe-bb9c-77f2521ffaa5"
      },
      "outputs": [
        {
          "name": "stdout",
          "output_type": "stream",
          "text": [
            " * sqlite:///FinalDB.db\n",
            "Done.\n"
          ]
        },
        {
          "data": {
            "text/html": [
              "<table>\n",
              "    <thead>\n",
              "        <tr>\n",
              "            <th>COMMUNITY_AREA_NAME</th>\n",
              "            <th>COMMUNITY_AREA_NUMBER</th>\n",
              "        </tr>\n",
              "    </thead>\n",
              "    <tbody>\n",
              "        <tr>\n",
              "            <td>West Garfield Park</td>\n",
              "            <td>26.0</td>\n",
              "        </tr>\n",
              "        <tr>\n",
              "            <td>South Lawndale</td>\n",
              "            <td>30.0</td>\n",
              "        </tr>\n",
              "        <tr>\n",
              "            <td>Fuller Park</td>\n",
              "            <td>37.0</td>\n",
              "        </tr>\n",
              "        <tr>\n",
              "            <td>Riverdale</td>\n",
              "            <td>54.0</td>\n",
              "        </tr>\n",
              "    </tbody>\n",
              "</table>"
            ],
            "text/plain": [
              "[('West Garfield Park', 26.0),\n",
              " ('South Lawndale', 30.0),\n",
              " ('Fuller Park', 37.0),\n",
              " ('Riverdale', 54.0)]"
            ]
          },
          "execution_count": 16,
          "metadata": {},
          "output_type": "execute_result"
        }
      ],
      "source": [
        "%sql select community_area_name,community_area_number from census_data where per_capita_income<11000"
      ]
    },
    {
      "cell_type": "markdown",
      "metadata": {
        "id": "zBDo24CSU2Uu"
      },
      "source": [
        "### Problem 3\n",
        "\n",
        "##### List all case numbers for crimes involving minors?(children are not considered minors for the purposes of crime analysis)\n"
      ]
    },
    {
      "cell_type": "code",
      "execution_count": null,
      "metadata": {
        "tags": [],
        "id": "Oj7fyzT_U2Uu",
        "outputId": "c2f81068-ed9e-48fc-c773-26190bc63204"
      },
      "outputs": [
        {
          "name": "stdout",
          "output_type": "stream",
          "text": [
            " * sqlite:///FinalDB.db\n",
            "Done.\n"
          ]
        },
        {
          "data": {
            "text/html": [
              "<table>\n",
              "    <thead>\n",
              "        <tr>\n",
              "            <th>ID</th>\n",
              "            <th>CASE_NUMBER</th>\n",
              "            <th>DATE</th>\n",
              "            <th>BLOCK</th>\n",
              "            <th>IUCR</th>\n",
              "            <th>PRIMARY_TYPE</th>\n",
              "            <th>DESCRIPTION</th>\n",
              "            <th>LOCATION_DESCRIPTION</th>\n",
              "            <th>ARREST</th>\n",
              "            <th>DOMESTIC</th>\n",
              "            <th>BEAT</th>\n",
              "            <th>DISTRICT</th>\n",
              "            <th>WARD</th>\n",
              "            <th>COMMUNITY_AREA_NUMBER</th>\n",
              "            <th>FBICODE</th>\n",
              "            <th>X_COORDINATE</th>\n",
              "            <th>Y_COORDINATE</th>\n",
              "            <th>YEAR</th>\n",
              "            <th>LATITUDE</th>\n",
              "            <th>LONGITUDE</th>\n",
              "            <th>LOCATION</th>\n",
              "        </tr>\n",
              "    </thead>\n",
              "    <tbody>\n",
              "        <tr>\n",
              "            <td>3987219</td>\n",
              "            <td>HL266884</td>\n",
              "            <td>2005-03-31</td>\n",
              "            <td>024XX N CLARK ST</td>\n",
              "            <td>2210</td>\n",
              "            <td>LIQUOR LAW VIOLATION</td>\n",
              "            <td>SELL/GIVE/DEL LIQUOR TO MINOR</td>\n",
              "            <td>CONVENIENCE STORE</td>\n",
              "            <td>1</td>\n",
              "            <td>0</td>\n",
              "            <td>2333</td>\n",
              "            <td>19</td>\n",
              "            <td>43.0</td>\n",
              "            <td>7.0</td>\n",
              "            <td>22</td>\n",
              "            <td>1172680.0</td>\n",
              "            <td>1916483.0</td>\n",
              "            <td>2005</td>\n",
              "            <td>41.92626872</td>\n",
              "            <td>-87.64089934</td>\n",
              "            <td>(41.926268719, -87.640899336)</td>\n",
              "        </tr>\n",
              "        <tr>\n",
              "            <td>3266814</td>\n",
              "            <td>HK238408</td>\n",
              "            <td>2004-03-13</td>\n",
              "            <td>093XX S STONY ISLAND AVE</td>\n",
              "            <td>2230</td>\n",
              "            <td>LIQUOR LAW VIOLATION</td>\n",
              "            <td>ILLEGAL CONSUMPTION BY MINOR</td>\n",
              "            <td>ALLEY</td>\n",
              "            <td>1</td>\n",
              "            <td>0</td>\n",
              "            <td>413</td>\n",
              "            <td>4</td>\n",
              "            <td>8.0</td>\n",
              "            <td>48.0</td>\n",
              "            <td>22</td>\n",
              "            <td>1188539.0</td>\n",
              "            <td>1843379.0</td>\n",
              "            <td>2004</td>\n",
              "            <td>41.72530099</td>\n",
              "            <td>-87.58496589</td>\n",
              "            <td>(41.72530099, -87.584965887)</td>\n",
              "        </tr>\n",
              "    </tbody>\n",
              "</table>"
            ],
            "text/plain": [
              "[(3987219, 'HL266884', '2005-03-31', '024XX N CLARK ST', '2210', 'LIQUOR LAW VIOLATION', 'SELL/GIVE/DEL LIQUOR TO MINOR', 'CONVENIENCE STORE', 1, 0, 2333, 19, 43.0, 7.0, '22', 1172680.0, 1916483.0, 2005, 41.92626872, -87.64089934, '(41.926268719, -87.640899336)'),\n",
              " (3266814, 'HK238408', '2004-03-13', '093XX S STONY ISLAND AVE', '2230', 'LIQUOR LAW VIOLATION', 'ILLEGAL CONSUMPTION BY MINOR', 'ALLEY', 1, 0, 413, 4, 8.0, 48.0, '22', 1188539.0, 1843379.0, 2004, 41.72530099, -87.58496589, '(41.72530099, -87.584965887)')]"
            ]
          },
          "execution_count": 29,
          "metadata": {},
          "output_type": "execute_result"
        }
      ],
      "source": [
        "%sql select * from chicago_crime_data where description like '%MINOR%'"
      ]
    },
    {
      "cell_type": "markdown",
      "metadata": {
        "tags": [],
        "id": "ea5qmXMkU2Uu"
      },
      "source": [
        " #Problem 4\n",
        " List all kidnapping crimes involving a child?\n"
      ]
    },
    {
      "cell_type": "code",
      "execution_count": null,
      "metadata": {
        "tags": [],
        "id": "Ix8SiGrjU2Uv",
        "outputId": "bc6335ee-74dc-47cf-b43f-84d7b50063c2"
      },
      "outputs": [
        {
          "name": "stdout",
          "output_type": "stream",
          "text": [
            " * sqlite:///FinalDB.db\n",
            "Done.\n"
          ]
        },
        {
          "data": {
            "text/html": [
              "<table>\n",
              "    <thead>\n",
              "        <tr>\n",
              "            <th>ID</th>\n",
              "            <th>CASE_NUMBER</th>\n",
              "            <th>DATE</th>\n",
              "            <th>BLOCK</th>\n",
              "            <th>IUCR</th>\n",
              "            <th>PRIMARY_TYPE</th>\n",
              "            <th>DESCRIPTION</th>\n",
              "            <th>LOCATION_DESCRIPTION</th>\n",
              "            <th>ARREST</th>\n",
              "            <th>DOMESTIC</th>\n",
              "            <th>BEAT</th>\n",
              "            <th>DISTRICT</th>\n",
              "            <th>WARD</th>\n",
              "            <th>COMMUNITY_AREA_NUMBER</th>\n",
              "            <th>FBICODE</th>\n",
              "            <th>X_COORDINATE</th>\n",
              "            <th>Y_COORDINATE</th>\n",
              "            <th>YEAR</th>\n",
              "            <th>LATITUDE</th>\n",
              "            <th>LONGITUDE</th>\n",
              "            <th>LOCATION</th>\n",
              "        </tr>\n",
              "    </thead>\n",
              "    <tbody>\n",
              "        <tr>\n",
              "            <td>5276766</td>\n",
              "            <td>HN144152</td>\n",
              "            <td>2007-01-26</td>\n",
              "            <td>050XX W VAN BUREN ST</td>\n",
              "            <td>1792</td>\n",
              "            <td>KIDNAPPING</td>\n",
              "            <td>CHILD ABDUCTION/STRANGER</td>\n",
              "            <td>STREET</td>\n",
              "            <td>0</td>\n",
              "            <td>0</td>\n",
              "            <td>1533</td>\n",
              "            <td>15</td>\n",
              "            <td>29.0</td>\n",
              "            <td>25.0</td>\n",
              "            <td>20</td>\n",
              "            <td>1143050.0</td>\n",
              "            <td>1897546.0</td>\n",
              "            <td>2007</td>\n",
              "            <td>41.87490841</td>\n",
              "            <td>-87.75024931</td>\n",
              "            <td>(41.874908413, -87.750249307)</td>\n",
              "        </tr>\n",
              "    </tbody>\n",
              "</table>"
            ],
            "text/plain": [
              "[(5276766, 'HN144152', '2007-01-26', '050XX W VAN BUREN ST', '1792', 'KIDNAPPING', 'CHILD ABDUCTION/STRANGER', 'STREET', 0, 0, 1533, 15, 29.0, 25.0, '20', 1143050.0, 1897546.0, 2007, 41.87490841, -87.75024931, '(41.874908413, -87.750249307)')]"
            ]
          },
          "execution_count": 25,
          "metadata": {},
          "output_type": "execute_result"
        }
      ],
      "source": [
        "%sql select * from chicago_crime_data where primary_type='KIDNAPPING' and description like '%child%'"
      ]
    },
    {
      "cell_type": "code",
      "execution_count": null,
      "metadata": {
        "tags": [],
        "id": "MFFAOw2uU2Uv",
        "outputId": "07900473-2abd-4561-dc09-a61ab5287ce8"
      },
      "outputs": [
        {
          "name": "stdout",
          "output_type": "stream",
          "text": [
            " * sqlite:///FinalDB.db\n",
            "Done.\n"
          ]
        },
        {
          "data": {
            "text/html": [
              "<table>\n",
              "    <thead>\n",
              "        <tr>\n",
              "            <th>ID</th>\n",
              "            <th>CASE_NUMBER</th>\n",
              "            <th>DATE</th>\n",
              "            <th>BLOCK</th>\n",
              "            <th>IUCR</th>\n",
              "            <th>PRIMARY_TYPE</th>\n",
              "            <th>DESCRIPTION</th>\n",
              "            <th>LOCATION_DESCRIPTION</th>\n",
              "            <th>ARREST</th>\n",
              "            <th>DOMESTIC</th>\n",
              "            <th>BEAT</th>\n",
              "            <th>DISTRICT</th>\n",
              "            <th>WARD</th>\n",
              "            <th>COMMUNITY_AREA_NUMBER</th>\n",
              "            <th>FBICODE</th>\n",
              "            <th>X_COORDINATE</th>\n",
              "            <th>Y_COORDINATE</th>\n",
              "            <th>YEAR</th>\n",
              "            <th>LATITUDE</th>\n",
              "            <th>LONGITUDE</th>\n",
              "            <th>LOCATION</th>\n",
              "        </tr>\n",
              "    </thead>\n",
              "    <tbody>\n",
              "        <tr>\n",
              "            <td>3512276</td>\n",
              "            <td>HK587712</td>\n",
              "            <td>2004-08-28</td>\n",
              "            <td>047XX S KEDZIE AVE</td>\n",
              "            <td>890</td>\n",
              "            <td>THEFT</td>\n",
              "            <td>FROM BUILDING</td>\n",
              "            <td>SMALL RETAIL STORE</td>\n",
              "            <td>0</td>\n",
              "            <td>0</td>\n",
              "            <td>911</td>\n",
              "            <td>9</td>\n",
              "            <td>14.0</td>\n",
              "            <td>58.0</td>\n",
              "            <td>6</td>\n",
              "            <td>1155838.0</td>\n",
              "            <td>1873050.0</td>\n",
              "            <td>2004</td>\n",
              "            <td>41.8074405</td>\n",
              "            <td>-87.70395585</td>\n",
              "            <td>(41.8074405, -87.703955849)</td>\n",
              "        </tr>\n",
              "        <tr>\n",
              "            <td>3406613</td>\n",
              "            <td>HK456306</td>\n",
              "            <td>2004-06-26</td>\n",
              "            <td>009XX N CENTRAL PARK AVE</td>\n",
              "            <td>820</td>\n",
              "            <td>THEFT</td>\n",
              "            <td>$500 AND UNDER</td>\n",
              "            <td>OTHER</td>\n",
              "            <td>0</td>\n",
              "            <td>0</td>\n",
              "            <td>1112</td>\n",
              "            <td>11</td>\n",
              "            <td>27.0</td>\n",
              "            <td>23.0</td>\n",
              "            <td>6</td>\n",
              "            <td>1152206.0</td>\n",
              "            <td>1906127.0</td>\n",
              "            <td>2004</td>\n",
              "            <td>41.89827996</td>\n",
              "            <td>-87.71640551</td>\n",
              "            <td>(41.898279962, -87.716405505)</td>\n",
              "        </tr>\n",
              "        <tr>\n",
              "            <td>8002131</td>\n",
              "            <td>HT233595</td>\n",
              "            <td>2011-04-04</td>\n",
              "            <td>043XX S WABASH AVE</td>\n",
              "            <td>820</td>\n",
              "            <td>THEFT</td>\n",
              "            <td>$500 AND UNDER</td>\n",
              "            <td>NURSING HOME/RETIREMENT HOME</td>\n",
              "            <td>0</td>\n",
              "            <td>0</td>\n",
              "            <td>221</td>\n",
              "            <td>2</td>\n",
              "            <td>3.0</td>\n",
              "            <td>38.0</td>\n",
              "            <td>6</td>\n",
              "            <td>1177436.0</td>\n",
              "            <td>1876313.0</td>\n",
              "            <td>2011</td>\n",
              "            <td>41.81593313</td>\n",
              "            <td>-87.62464213</td>\n",
              "            <td>(41.815933131, -87.624642127)</td>\n",
              "        </tr>\n",
              "        <tr>\n",
              "            <td>7903289</td>\n",
              "            <td>HT133522</td>\n",
              "            <td>2010-12-30</td>\n",
              "            <td>083XX S KINGSTON AVE</td>\n",
              "            <td>840</td>\n",
              "            <td>THEFT</td>\n",
              "            <td>FINANCIAL ID THEFT: OVER $300</td>\n",
              "            <td>RESIDENCE</td>\n",
              "            <td>0</td>\n",
              "            <td>0</td>\n",
              "            <td>423</td>\n",
              "            <td>4</td>\n",
              "            <td>7.0</td>\n",
              "            <td>46.0</td>\n",
              "            <td>6</td>\n",
              "            <td>1194622.0</td>\n",
              "            <td>1850125.0</td>\n",
              "            <td>2010</td>\n",
              "            <td>41.74366532</td>\n",
              "            <td>-87.56246276</td>\n",
              "            <td>(41.743665322, -87.562462756)</td>\n",
              "        </tr>\n",
              "        <tr>\n",
              "            <td>10402076</td>\n",
              "            <td>HZ138551</td>\n",
              "            <td>2016-02-02</td>\n",
              "            <td>033XX W 66TH ST</td>\n",
              "            <td>820</td>\n",
              "            <td>THEFT</td>\n",
              "            <td>$500 AND UNDER</td>\n",
              "            <td>ALLEY</td>\n",
              "            <td>0</td>\n",
              "            <td>0</td>\n",
              "            <td>831</td>\n",
              "            <td>8</td>\n",
              "            <td>15.0</td>\n",
              "            <td>66.0</td>\n",
              "            <td>6</td>\n",
              "            <td>1155240.0</td>\n",
              "            <td>1860661.0</td>\n",
              "            <td>2016</td>\n",
              "            <td>41.7734553</td>\n",
              "            <td>-87.70648047</td>\n",
              "            <td>(41.773455295, -87.706480471)</td>\n",
              "        </tr>\n",
              "    </tbody>\n",
              "</table>"
            ],
            "text/plain": [
              "[(3512276, 'HK587712', '2004-08-28', '047XX S KEDZIE AVE', '890', 'THEFT', 'FROM BUILDING', 'SMALL RETAIL STORE', 0, 0, 911, 9, 14.0, 58.0, '6', 1155838.0, 1873050.0, 2004, 41.8074405, -87.70395585, '(41.8074405, -87.703955849)'),\n",
              " (3406613, 'HK456306', '2004-06-26', '009XX N CENTRAL PARK AVE', '820', 'THEFT', '$500 AND UNDER', 'OTHER', 0, 0, 1112, 11, 27.0, 23.0, '6', 1152206.0, 1906127.0, 2004, 41.89827996, -87.71640551, '(41.898279962, -87.716405505)'),\n",
              " (8002131, 'HT233595', '2011-04-04', '043XX S WABASH AVE', '820', 'THEFT', '$500 AND UNDER', 'NURSING HOME/RETIREMENT HOME', 0, 0, 221, 2, 3.0, 38.0, '6', 1177436.0, 1876313.0, 2011, 41.81593313, -87.62464213, '(41.815933131, -87.624642127)'),\n",
              " (7903289, 'HT133522', '2010-12-30', '083XX S KINGSTON AVE', '840', 'THEFT', 'FINANCIAL ID THEFT: OVER $300', 'RESIDENCE', 0, 0, 423, 4, 7.0, 46.0, '6', 1194622.0, 1850125.0, 2010, 41.74366532, -87.56246276, '(41.743665322, -87.562462756)'),\n",
              " (10402076, 'HZ138551', '2016-02-02', '033XX W 66TH ST', '820', 'THEFT', '$500 AND UNDER', 'ALLEY', 0, 0, 831, 8, 15.0, 66.0, '6', 1155240.0, 1860661.0, 2016, 41.7734553, -87.70648047, '(41.773455295, -87.706480471)')]"
            ]
          },
          "execution_count": 24,
          "metadata": {},
          "output_type": "execute_result"
        }
      ],
      "source": [
        "%sql select * from chicago_crime_data limit 5"
      ]
    },
    {
      "cell_type": "markdown",
      "metadata": {
        "id": "HNuojDRcU2Uv"
      },
      "source": [
        "### Problem 5\n",
        "\n",
        "##### List the kind of crimes that were recorded at schools. (No repetitions)\n"
      ]
    },
    {
      "cell_type": "code",
      "execution_count": null,
      "metadata": {
        "tags": [],
        "id": "9wDoP8WZU2Uw",
        "outputId": "6bc4c95f-ecd3-45d4-d67d-b7b4474b0ba7"
      },
      "outputs": [
        {
          "name": "stdout",
          "output_type": "stream",
          "text": [
            " * sqlite:///FinalDB.db\n",
            "Done.\n"
          ]
        },
        {
          "data": {
            "text/html": [
              "<table>\n",
              "    <thead>\n",
              "        <tr>\n",
              "            <th>ID</th>\n",
              "            <th>CASE_NUMBER</th>\n",
              "            <th>DATE</th>\n",
              "            <th>BLOCK</th>\n",
              "            <th>IUCR</th>\n",
              "            <th>PRIMARY_TYPE</th>\n",
              "            <th>DESCRIPTION</th>\n",
              "            <th>LOCATION_DESCRIPTION</th>\n",
              "            <th>ARREST</th>\n",
              "            <th>DOMESTIC</th>\n",
              "            <th>BEAT</th>\n",
              "            <th>DISTRICT</th>\n",
              "            <th>WARD</th>\n",
              "            <th>COMMUNITY_AREA_NUMBER</th>\n",
              "            <th>FBICODE</th>\n",
              "            <th>X_COORDINATE</th>\n",
              "            <th>Y_COORDINATE</th>\n",
              "            <th>YEAR</th>\n",
              "            <th>LATITUDE</th>\n",
              "            <th>LONGITUDE</th>\n",
              "            <th>LOCATION</th>\n",
              "        </tr>\n",
              "    </thead>\n",
              "    <tbody>\n",
              "        <tr>\n",
              "            <td>4006321</td>\n",
              "            <td>HL353697</td>\n",
              "            <td>2005-05-04</td>\n",
              "            <td>077XX S BURNHAM AVE</td>\n",
              "            <td>460</td>\n",
              "            <td>BATTERY</td>\n",
              "            <td>SIMPLE</td>\n",
              "            <td>SCHOOL, PUBLIC, GROUNDS</td>\n",
              "            <td>0</td>\n",
              "            <td>0</td>\n",
              "            <td>421</td>\n",
              "            <td>4</td>\n",
              "            <td>7.0</td>\n",
              "            <td>43.0</td>\n",
              "            <td>08B</td>\n",
              "            <td>1196066.0</td>\n",
              "            <td>1854156.0</td>\n",
              "            <td>2005</td>\n",
              "            <td>41.75469107</td>\n",
              "            <td>-87.55703869</td>\n",
              "            <td>(41.754691074, -87.557038686)</td>\n",
              "        </tr>\n",
              "        <tr>\n",
              "            <td>4430638</td>\n",
              "            <td>HL725506</td>\n",
              "            <td>2005-11-09</td>\n",
              "            <td>048XX N FRANCISCO AVE</td>\n",
              "            <td>484</td>\n",
              "            <td>BATTERY</td>\n",
              "            <td>PRO EMP HANDS NO/MIN INJURY</td>\n",
              "            <td>SCHOOL, PUBLIC, BUILDING</td>\n",
              "            <td>1</td>\n",
              "            <td>0</td>\n",
              "            <td>2031</td>\n",
              "            <td>20</td>\n",
              "            <td>40.0</td>\n",
              "            <td>4.0</td>\n",
              "            <td>08B</td>\n",
              "            <td>1156348.0</td>\n",
              "            <td>1932071.0</td>\n",
              "            <td>2005</td>\n",
              "            <td>41.96938944</td>\n",
              "            <td>-87.70048881</td>\n",
              "            <td>(41.96938944, -87.700488807)</td>\n",
              "        </tr>\n",
              "        <tr>\n",
              "            <td>6644618</td>\n",
              "            <td>HP716225</td>\n",
              "            <td>2008-12-04</td>\n",
              "            <td>030XX S DR MARTIN LUTHER KING JR DR</td>\n",
              "            <td>460</td>\n",
              "            <td>BATTERY</td>\n",
              "            <td>SIMPLE</td>\n",
              "            <td>SCHOOL, PUBLIC, BUILDING</td>\n",
              "            <td>0</td>\n",
              "            <td>0</td>\n",
              "            <td>2112</td>\n",
              "            <td>1</td>\n",
              "            <td>2.0</td>\n",
              "            <td>35.0</td>\n",
              "            <td>08B</td>\n",
              "            <td>1179306.0</td>\n",
              "            <td>1885032.0</td>\n",
              "            <td>2008</td>\n",
              "            <td>41.83981621</td>\n",
              "            <td>-87.61751617</td>\n",
              "            <td>(41.839816207, -87.617516172)</td>\n",
              "        </tr>\n",
              "        <tr>\n",
              "            <td>2341955</td>\n",
              "            <td>HH639427</td>\n",
              "            <td>2002-09-10</td>\n",
              "            <td>005XX N WALLER AVE</td>\n",
              "            <td>460</td>\n",
              "            <td>BATTERY</td>\n",
              "            <td>SIMPLE</td>\n",
              "            <td>SCHOOL, PUBLIC, BUILDING</td>\n",
              "            <td>0</td>\n",
              "            <td>0</td>\n",
              "            <td>1512</td>\n",
              "            <td>15</td>\n",
              "            <td>29.0</td>\n",
              "            <td>25.0</td>\n",
              "            <td>08B</td>\n",
              "            <td>1138238.0</td>\n",
              "            <td>1903181.0</td>\n",
              "            <td>2002</td>\n",
              "            <td>41.89045993</td>\n",
              "            <td>-87.76778089</td>\n",
              "            <td>(41.890459933, -87.767780886)</td>\n",
              "        </tr>\n",
              "        <tr>\n",
              "            <td>11110571</td>\n",
              "            <td>JA460432</td>\n",
              "            <td>2017-10-05</td>\n",
              "            <td>076XX S HOMAN AVE</td>\n",
              "            <td>460</td>\n",
              "            <td>BATTERY</td>\n",
              "            <td>SIMPLE</td>\n",
              "            <td>SCHOOL, PUBLIC, GROUNDS</td>\n",
              "            <td>0</td>\n",
              "            <td>0</td>\n",
              "            <td>835</td>\n",
              "            <td>8</td>\n",
              "            <td>18.0</td>\n",
              "            <td>70.0</td>\n",
              "            <td>08B</td>\n",
              "            <td>1155024.0</td>\n",
              "            <td>1853614.0</td>\n",
              "            <td>2017</td>\n",
              "            <td>41.75412154</td>\n",
              "            <td>-87.70746025</td>\n",
              "            <td>(41.754121535, -87.707460248)</td>\n",
              "        </tr>\n",
              "        <tr>\n",
              "            <td>7399281</td>\n",
              "            <td>HS200939</td>\n",
              "            <td>2010-03-10</td>\n",
              "            <td>053XX W CONGRESS PKWY</td>\n",
              "            <td>1320</td>\n",
              "            <td>CRIMINAL DAMAGE</td>\n",
              "            <td>TO VEHICLE</td>\n",
              "            <td>SCHOOL, PUBLIC, GROUNDS</td>\n",
              "            <td>0</td>\n",
              "            <td>0</td>\n",
              "            <td>1522</td>\n",
              "            <td>15</td>\n",
              "            <td>29.0</td>\n",
              "            <td>25.0</td>\n",
              "            <td>14</td>\n",
              "            <td>1140822.0</td>\n",
              "            <td>1897164.0</td>\n",
              "            <td>2010</td>\n",
              "            <td>41.8739014</td>\n",
              "            <td>-87.7584391</td>\n",
              "            <td>(41.873901397, -87.758439102)</td>\n",
              "        </tr>\n",
              "        <tr>\n",
              "            <td>3530721</td>\n",
              "            <td>HK577020</td>\n",
              "            <td>2004-08-23</td>\n",
              "            <td>016XX W JONQUIL TER</td>\n",
              "            <td>2024</td>\n",
              "            <td>NARCOTICS</td>\n",
              "            <td>POSS: HEROIN(WHITE)</td>\n",
              "            <td>SCHOOL, PUBLIC, GROUNDS</td>\n",
              "            <td>1</td>\n",
              "            <td>0</td>\n",
              "            <td>2422</td>\n",
              "            <td>24</td>\n",
              "            <td>49.0</td>\n",
              "            <td>1.0</td>\n",
              "            <td>18</td>\n",
              "            <td>1163893.0</td>\n",
              "            <td>1951001.0</td>\n",
              "            <td>2004</td>\n",
              "            <td>42.0211776</td>\n",
              "            <td>-87.67220843</td>\n",
              "            <td>(42.021177601, -87.67220843)</td>\n",
              "        </tr>\n",
              "        <tr>\n",
              "            <td>7502426</td>\n",
              "            <td>HS305355</td>\n",
              "            <td>2010-05-13</td>\n",
              "            <td>035XX S WASHTENAW AVE</td>\n",
              "            <td>1821</td>\n",
              "            <td>NARCOTICS</td>\n",
              "            <td>MANU/DEL:CANNABIS 10GM OR LESS</td>\n",
              "            <td>SCHOOL, PUBLIC, BUILDING</td>\n",
              "            <td>1</td>\n",
              "            <td>0</td>\n",
              "            <td>913</td>\n",
              "            <td>9</td>\n",
              "            <td>12.0</td>\n",
              "            <td>58.0</td>\n",
              "            <td>18</td>\n",
              "            <td>1158944.0</td>\n",
              "            <td>1880896.0</td>\n",
              "            <td>2010</td>\n",
              "            <td>41.82890791</td>\n",
              "            <td>-87.69234919</td>\n",
              "            <td>(41.828907913, -87.692349187)</td>\n",
              "        </tr>\n",
              "        <tr>\n",
              "            <td>8082600</td>\n",
              "            <td>HT315369</td>\n",
              "            <td>2011-05-26</td>\n",
              "            <td>032XX W ADAMS ST</td>\n",
              "            <td>545</td>\n",
              "            <td>ASSAULT</td>\n",
              "            <td>PRO EMP HANDS NO/MIN INJURY</td>\n",
              "            <td>SCHOOL, PUBLIC, GROUNDS</td>\n",
              "            <td>0</td>\n",
              "            <td>0</td>\n",
              "            <td>1124</td>\n",
              "            <td>11</td>\n",
              "            <td>28.0</td>\n",
              "            <td>27.0</td>\n",
              "            <td>08A</td>\n",
              "            <td>1154752.0</td>\n",
              "            <td>1898890.0</td>\n",
              "            <td>2011</td>\n",
              "            <td>41.87837031</td>\n",
              "            <td>-87.70724814</td>\n",
              "            <td>(41.878370307, -87.707248137)</td>\n",
              "        </tr>\n",
              "        <tr>\n",
              "            <td>7174283</td>\n",
              "            <td>HR585012</td>\n",
              "            <td>2009-10-13</td>\n",
              "            <td>043XX W 79TH ST</td>\n",
              "            <td>1330</td>\n",
              "            <td>CRIMINAL TRESPASS</td>\n",
              "            <td>TO LAND</td>\n",
              "            <td>SCHOOL, PUBLIC, GROUNDS</td>\n",
              "            <td>1</td>\n",
              "            <td>0</td>\n",
              "            <td>834</td>\n",
              "            <td>8</td>\n",
              "            <td>13.0</td>\n",
              "            <td>70.0</td>\n",
              "            <td>26</td>\n",
              "            <td>1148764.0</td>\n",
              "            <td>1851854.0</td>\n",
              "            <td>2009</td>\n",
              "            <td>41.74941446</td>\n",
              "            <td>-87.7304466</td>\n",
              "            <td>(41.749414464, -87.730446597)</td>\n",
              "        </tr>\n",
              "        <tr>\n",
              "            <td>2075734</td>\n",
              "            <td>HH292682</td>\n",
              "            <td>2002-04-05</td>\n",
              "            <td>016XX W BRYN MAWR AV</td>\n",
              "            <td>2850</td>\n",
              "            <td>PUBLIC PEACE VIOLATION</td>\n",
              "            <td>BOMB THREAT</td>\n",
              "            <td>SCHOOL, PRIVATE, BUILDING</td>\n",
              "            <td>0</td>\n",
              "            <td>0</td>\n",
              "            <td>2012</td>\n",
              "            <td>20</td>\n",
              "            <td>None</td>\n",
              "            <td>None</td>\n",
              "            <td>26</td>\n",
              "            <td>None</td>\n",
              "            <td>None</td>\n",
              "            <td>2002</td>\n",
              "            <td>None</td>\n",
              "            <td>None</td>\n",
              "            <td>None</td>\n",
              "        </tr>\n",
              "        <tr>\n",
              "            <td>1806896</td>\n",
              "            <td>G635735</td>\n",
              "            <td>2001-10-22</td>\n",
              "            <td>0000X N HERMITAGE AV</td>\n",
              "            <td>2850</td>\n",
              "            <td>PUBLIC PEACE VIOLATION</td>\n",
              "            <td>BOMB THREAT</td>\n",
              "            <td>SCHOOL, PUBLIC, BUILDING</td>\n",
              "            <td>1</td>\n",
              "            <td>0</td>\n",
              "            <td>1333</td>\n",
              "            <td>12</td>\n",
              "            <td>None</td>\n",
              "            <td>None</td>\n",
              "            <td>26</td>\n",
              "            <td>1164687.0</td>\n",
              "            <td>1900646.0</td>\n",
              "            <td>2001</td>\n",
              "            <td>41.88298425</td>\n",
              "            <td>-87.67071922</td>\n",
              "            <td>(41.882984246, -87.670719218)</td>\n",
              "        </tr>\n",
              "    </tbody>\n",
              "</table>"
            ],
            "text/plain": [
              "[(4006321, 'HL353697', '2005-05-04', '077XX S BURNHAM AVE', '460', 'BATTERY', 'SIMPLE', 'SCHOOL, PUBLIC, GROUNDS', 0, 0, 421, 4, 7.0, 43.0, '08B', 1196066.0, 1854156.0, 2005, 41.75469107, -87.55703869, '(41.754691074, -87.557038686)'),\n",
              " (4430638, 'HL725506', '2005-11-09', '048XX N FRANCISCO AVE', '484', 'BATTERY', 'PRO EMP HANDS NO/MIN INJURY', 'SCHOOL, PUBLIC, BUILDING', 1, 0, 2031, 20, 40.0, 4.0, '08B', 1156348.0, 1932071.0, 2005, 41.96938944, -87.70048881, '(41.96938944, -87.700488807)'),\n",
              " (6644618, 'HP716225', '2008-12-04', '030XX S DR MARTIN LUTHER KING JR DR', '460', 'BATTERY', 'SIMPLE', 'SCHOOL, PUBLIC, BUILDING', 0, 0, 2112, 1, 2.0, 35.0, '08B', 1179306.0, 1885032.0, 2008, 41.83981621, -87.61751617, '(41.839816207, -87.617516172)'),\n",
              " (2341955, 'HH639427', '2002-09-10', '005XX N WALLER AVE', '460', 'BATTERY', 'SIMPLE', 'SCHOOL, PUBLIC, BUILDING', 0, 0, 1512, 15, 29.0, 25.0, '08B', 1138238.0, 1903181.0, 2002, 41.89045993, -87.76778089, '(41.890459933, -87.767780886)'),\n",
              " (11110571, 'JA460432', '2017-10-05', '076XX S HOMAN AVE', '460', 'BATTERY', 'SIMPLE', 'SCHOOL, PUBLIC, GROUNDS', 0, 0, 835, 8, 18.0, 70.0, '08B', 1155024.0, 1853614.0, 2017, 41.75412154, -87.70746025, '(41.754121535, -87.707460248)'),\n",
              " (7399281, 'HS200939', '2010-03-10', '053XX W CONGRESS PKWY', '1320', 'CRIMINAL DAMAGE', 'TO VEHICLE', 'SCHOOL, PUBLIC, GROUNDS', 0, 0, 1522, 15, 29.0, 25.0, '14', 1140822.0, 1897164.0, 2010, 41.8739014, -87.7584391, '(41.873901397, -87.758439102)'),\n",
              " (3530721, 'HK577020', '2004-08-23', '016XX W JONQUIL TER', '2024', 'NARCOTICS', 'POSS: HEROIN(WHITE)', 'SCHOOL, PUBLIC, GROUNDS', 1, 0, 2422, 24, 49.0, 1.0, '18', 1163893.0, 1951001.0, 2004, 42.0211776, -87.67220843, '(42.021177601, -87.67220843)'),\n",
              " (7502426, 'HS305355', '2010-05-13', '035XX S WASHTENAW AVE', '1821', 'NARCOTICS', 'MANU/DEL:CANNABIS 10GM OR LESS', 'SCHOOL, PUBLIC, BUILDING', 1, 0, 913, 9, 12.0, 58.0, '18', 1158944.0, 1880896.0, 2010, 41.82890791, -87.69234919, '(41.828907913, -87.692349187)'),\n",
              " (8082600, 'HT315369', '2011-05-26', '032XX W ADAMS ST', '545', 'ASSAULT', 'PRO EMP HANDS NO/MIN INJURY', 'SCHOOL, PUBLIC, GROUNDS', 0, 0, 1124, 11, 28.0, 27.0, '08A', 1154752.0, 1898890.0, 2011, 41.87837031, -87.70724814, '(41.878370307, -87.707248137)'),\n",
              " (7174283, 'HR585012', '2009-10-13', '043XX W 79TH ST', '1330', 'CRIMINAL TRESPASS', 'TO LAND', 'SCHOOL, PUBLIC, GROUNDS', 1, 0, 834, 8, 13.0, 70.0, '26', 1148764.0, 1851854.0, 2009, 41.74941446, -87.7304466, '(41.749414464, -87.730446597)'),\n",
              " (2075734, 'HH292682', '2002-04-05', '016XX W BRYN MAWR AV', '2850', 'PUBLIC PEACE VIOLATION', 'BOMB THREAT', 'SCHOOL, PRIVATE, BUILDING', 0, 0, 2012, 20, None, None, '26', None, None, 2002, None, None, None),\n",
              " (1806896, 'G635735', '2001-10-22', '0000X N HERMITAGE AV', '2850', 'PUBLIC PEACE VIOLATION', 'BOMB THREAT', 'SCHOOL, PUBLIC, BUILDING', 1, 0, 1333, 12, None, None, '26', 1164687.0, 1900646.0, 2001, 41.88298425, -87.67071922, '(41.882984246, -87.670719218)')]"
            ]
          },
          "execution_count": 35,
          "metadata": {},
          "output_type": "execute_result"
        }
      ],
      "source": [
        "%sql select * from chicago_crime_data where location_description like '%SCHOOL%'"
      ]
    },
    {
      "cell_type": "markdown",
      "metadata": {
        "id": "3uq14u5BU2Uw"
      },
      "source": [
        "### Problem 6\n",
        "\n",
        "##### List the type of schools along with the average safety score for each type.\n"
      ]
    },
    {
      "cell_type": "code",
      "execution_count": null,
      "metadata": {
        "tags": [],
        "id": "GC1b1y2pU2Uw",
        "outputId": "8f070020-54c8-4793-d233-cc3575ddbb97"
      },
      "outputs": [
        {
          "name": "stdout",
          "output_type": "stream",
          "text": [
            " * sqlite:///FinalDB.db\n",
            "Done.\n"
          ]
        },
        {
          "data": {
            "text/html": [
              "<table>\n",
              "    <thead>\n",
              "        <tr>\n",
              "            <th>Elementary, Middle, or High School</th>\n",
              "            <th>round(avg(SAFETY_SCORE),2)</th>\n",
              "        </tr>\n",
              "    </thead>\n",
              "    <tbody>\n",
              "        <tr>\n",
              "            <td>ES</td>\n",
              "            <td>49.52</td>\n",
              "        </tr>\n",
              "        <tr>\n",
              "            <td>HS</td>\n",
              "            <td>49.62</td>\n",
              "        </tr>\n",
              "        <tr>\n",
              "            <td>MS</td>\n",
              "            <td>48.0</td>\n",
              "        </tr>\n",
              "    </tbody>\n",
              "</table>"
            ],
            "text/plain": [
              "[('ES', 49.52), ('HS', 49.62), ('MS', 48.0)]"
            ]
          },
          "execution_count": 10,
          "metadata": {},
          "output_type": "execute_result"
        }
      ],
      "source": [
        "%sql select \"Elementary, Middle, or High School\", round(avg(SAFETY_SCORE),2) from chicago_public_schools \\\n",
        "group by \"Elementary, Middle, or High School\""
      ]
    },
    {
      "cell_type": "markdown",
      "metadata": {
        "id": "1RPSACX2U2Ux"
      },
      "source": [
        "### Problem 7\n",
        "\n",
        "##### List 5 community areas with highest % of households below poverty line\n"
      ]
    },
    {
      "cell_type": "code",
      "execution_count": null,
      "metadata": {
        "tags": [],
        "id": "1iMajnTbU2Ux",
        "outputId": "1612ea52-f0ec-4820-b7f0-2d73a991999a"
      },
      "outputs": [
        {
          "name": "stdout",
          "output_type": "stream",
          "text": [
            " * sqlite:///FinalDB.db\n",
            "Done.\n"
          ]
        },
        {
          "data": {
            "text/html": [
              "<table>\n",
              "    <thead>\n",
              "        <tr>\n",
              "            <th>COMMUNITY_AREA_NAME</th>\n",
              "            <th>PERCENT_HOUSEHOLDS_BELOW_POVERTY</th>\n",
              "        </tr>\n",
              "    </thead>\n",
              "    <tbody>\n",
              "        <tr>\n",
              "            <td>Riverdale</td>\n",
              "            <td>56.5</td>\n",
              "        </tr>\n",
              "        <tr>\n",
              "            <td>Fuller Park</td>\n",
              "            <td>51.2</td>\n",
              "        </tr>\n",
              "        <tr>\n",
              "            <td>Englewood</td>\n",
              "            <td>46.6</td>\n",
              "        </tr>\n",
              "        <tr>\n",
              "            <td>North Lawndale</td>\n",
              "            <td>43.1</td>\n",
              "        </tr>\n",
              "        <tr>\n",
              "            <td>East Garfield Park</td>\n",
              "            <td>42.4</td>\n",
              "        </tr>\n",
              "    </tbody>\n",
              "</table>"
            ],
            "text/plain": [
              "[('Riverdale', 56.5),\n",
              " ('Fuller Park', 51.2),\n",
              " ('Englewood', 46.6),\n",
              " ('North Lawndale', 43.1),\n",
              " ('East Garfield Park', 42.4)]"
            ]
          },
          "execution_count": 12,
          "metadata": {},
          "output_type": "execute_result"
        }
      ],
      "source": [
        "%sql select community_area_name,percent_households_below_poverty from census_data \\\n",
        "order by percent_households_below_poverty desc limit 5"
      ]
    },
    {
      "cell_type": "markdown",
      "metadata": {
        "id": "Ji1CWmKDU2Ux"
      },
      "source": [
        "### Problem 8\n",
        "\n",
        "##### Which community area is most crime prone? Display the coumminty area number only.\n"
      ]
    },
    {
      "cell_type": "code",
      "execution_count": null,
      "metadata": {
        "tags": [],
        "id": "M_EPry9mU2Uy",
        "outputId": "a70b5ddb-87ef-4352-9505-38290b1ce3cf"
      },
      "outputs": [
        {
          "name": "stdout",
          "output_type": "stream",
          "text": [
            " * sqlite:///FinalDB.db\n",
            "Done.\n"
          ]
        },
        {
          "data": {
            "text/html": [
              "<table>\n",
              "    <thead>\n",
              "        <tr>\n",
              "            <th>community_area_number</th>\n",
              "        </tr>\n",
              "    </thead>\n",
              "    <tbody>\n",
              "        <tr>\n",
              "            <td>25.0</td>\n",
              "        </tr>\n",
              "    </tbody>\n",
              "</table>"
            ],
            "text/plain": [
              "[(25.0,)]"
            ]
          },
          "execution_count": 17,
          "metadata": {},
          "output_type": "execute_result"
        }
      ],
      "source": [
        "%sql select community_area_number from(select community_area_number,count(*) from chicago_crime_data\\\n",
        "group by community_area_number order by count(*) desc nulls last limit 1)x"
      ]
    },
    {
      "cell_type": "code",
      "execution_count": null,
      "metadata": {
        "tags": [],
        "id": "LZDC2UcDU2Uy",
        "outputId": "48b3bbeb-d8c6-4386-d601-8e9664d203ec"
      },
      "outputs": [
        {
          "name": "stdout",
          "output_type": "stream",
          "text": [
            " * sqlite:///FinalDB.db\n",
            "Done.\n"
          ]
        },
        {
          "data": {
            "text/html": [
              "<table>\n",
              "    <thead>\n",
              "        <tr>\n",
              "            <th>ID</th>\n",
              "            <th>CASE_NUMBER</th>\n",
              "            <th>DATE</th>\n",
              "            <th>BLOCK</th>\n",
              "            <th>IUCR</th>\n",
              "            <th>PRIMARY_TYPE</th>\n",
              "            <th>DESCRIPTION</th>\n",
              "            <th>LOCATION_DESCRIPTION</th>\n",
              "            <th>ARREST</th>\n",
              "            <th>DOMESTIC</th>\n",
              "            <th>BEAT</th>\n",
              "            <th>DISTRICT</th>\n",
              "            <th>WARD</th>\n",
              "            <th>COMMUNITY_AREA_NUMBER</th>\n",
              "            <th>FBICODE</th>\n",
              "            <th>X_COORDINATE</th>\n",
              "            <th>Y_COORDINATE</th>\n",
              "            <th>YEAR</th>\n",
              "            <th>LATITUDE</th>\n",
              "            <th>LONGITUDE</th>\n",
              "            <th>LOCATION</th>\n",
              "        </tr>\n",
              "    </thead>\n",
              "    <tbody>\n",
              "        <tr>\n",
              "            <td>3512276</td>\n",
              "            <td>HK587712</td>\n",
              "            <td>2004-08-28</td>\n",
              "            <td>047XX S KEDZIE AVE</td>\n",
              "            <td>890</td>\n",
              "            <td>THEFT</td>\n",
              "            <td>FROM BUILDING</td>\n",
              "            <td>SMALL RETAIL STORE</td>\n",
              "            <td>0</td>\n",
              "            <td>0</td>\n",
              "            <td>911</td>\n",
              "            <td>9</td>\n",
              "            <td>14.0</td>\n",
              "            <td>58.0</td>\n",
              "            <td>6</td>\n",
              "            <td>1155838.0</td>\n",
              "            <td>1873050.0</td>\n",
              "            <td>2004</td>\n",
              "            <td>41.8074405</td>\n",
              "            <td>-87.70395585</td>\n",
              "            <td>(41.8074405, -87.703955849)</td>\n",
              "        </tr>\n",
              "        <tr>\n",
              "            <td>3406613</td>\n",
              "            <td>HK456306</td>\n",
              "            <td>2004-06-26</td>\n",
              "            <td>009XX N CENTRAL PARK AVE</td>\n",
              "            <td>820</td>\n",
              "            <td>THEFT</td>\n",
              "            <td>$500 AND UNDER</td>\n",
              "            <td>OTHER</td>\n",
              "            <td>0</td>\n",
              "            <td>0</td>\n",
              "            <td>1112</td>\n",
              "            <td>11</td>\n",
              "            <td>27.0</td>\n",
              "            <td>23.0</td>\n",
              "            <td>6</td>\n",
              "            <td>1152206.0</td>\n",
              "            <td>1906127.0</td>\n",
              "            <td>2004</td>\n",
              "            <td>41.89827996</td>\n",
              "            <td>-87.71640551</td>\n",
              "            <td>(41.898279962, -87.716405505)</td>\n",
              "        </tr>\n",
              "        <tr>\n",
              "            <td>8002131</td>\n",
              "            <td>HT233595</td>\n",
              "            <td>2011-04-04</td>\n",
              "            <td>043XX S WABASH AVE</td>\n",
              "            <td>820</td>\n",
              "            <td>THEFT</td>\n",
              "            <td>$500 AND UNDER</td>\n",
              "            <td>NURSING HOME/RETIREMENT HOME</td>\n",
              "            <td>0</td>\n",
              "            <td>0</td>\n",
              "            <td>221</td>\n",
              "            <td>2</td>\n",
              "            <td>3.0</td>\n",
              "            <td>38.0</td>\n",
              "            <td>6</td>\n",
              "            <td>1177436.0</td>\n",
              "            <td>1876313.0</td>\n",
              "            <td>2011</td>\n",
              "            <td>41.81593313</td>\n",
              "            <td>-87.62464213</td>\n",
              "            <td>(41.815933131, -87.624642127)</td>\n",
              "        </tr>\n",
              "        <tr>\n",
              "            <td>7903289</td>\n",
              "            <td>HT133522</td>\n",
              "            <td>2010-12-30</td>\n",
              "            <td>083XX S KINGSTON AVE</td>\n",
              "            <td>840</td>\n",
              "            <td>THEFT</td>\n",
              "            <td>FINANCIAL ID THEFT: OVER $300</td>\n",
              "            <td>RESIDENCE</td>\n",
              "            <td>0</td>\n",
              "            <td>0</td>\n",
              "            <td>423</td>\n",
              "            <td>4</td>\n",
              "            <td>7.0</td>\n",
              "            <td>46.0</td>\n",
              "            <td>6</td>\n",
              "            <td>1194622.0</td>\n",
              "            <td>1850125.0</td>\n",
              "            <td>2010</td>\n",
              "            <td>41.74366532</td>\n",
              "            <td>-87.56246276</td>\n",
              "            <td>(41.743665322, -87.562462756)</td>\n",
              "        </tr>\n",
              "        <tr>\n",
              "            <td>10402076</td>\n",
              "            <td>HZ138551</td>\n",
              "            <td>2016-02-02</td>\n",
              "            <td>033XX W 66TH ST</td>\n",
              "            <td>820</td>\n",
              "            <td>THEFT</td>\n",
              "            <td>$500 AND UNDER</td>\n",
              "            <td>ALLEY</td>\n",
              "            <td>0</td>\n",
              "            <td>0</td>\n",
              "            <td>831</td>\n",
              "            <td>8</td>\n",
              "            <td>15.0</td>\n",
              "            <td>66.0</td>\n",
              "            <td>6</td>\n",
              "            <td>1155240.0</td>\n",
              "            <td>1860661.0</td>\n",
              "            <td>2016</td>\n",
              "            <td>41.7734553</td>\n",
              "            <td>-87.70648047</td>\n",
              "            <td>(41.773455295, -87.706480471)</td>\n",
              "        </tr>\n",
              "    </tbody>\n",
              "</table>"
            ],
            "text/plain": [
              "[(3512276, 'HK587712', '2004-08-28', '047XX S KEDZIE AVE', '890', 'THEFT', 'FROM BUILDING', 'SMALL RETAIL STORE', 0, 0, 911, 9, 14.0, 58.0, '6', 1155838.0, 1873050.0, 2004, 41.8074405, -87.70395585, '(41.8074405, -87.703955849)'),\n",
              " (3406613, 'HK456306', '2004-06-26', '009XX N CENTRAL PARK AVE', '820', 'THEFT', '$500 AND UNDER', 'OTHER', 0, 0, 1112, 11, 27.0, 23.0, '6', 1152206.0, 1906127.0, 2004, 41.89827996, -87.71640551, '(41.898279962, -87.716405505)'),\n",
              " (8002131, 'HT233595', '2011-04-04', '043XX S WABASH AVE', '820', 'THEFT', '$500 AND UNDER', 'NURSING HOME/RETIREMENT HOME', 0, 0, 221, 2, 3.0, 38.0, '6', 1177436.0, 1876313.0, 2011, 41.81593313, -87.62464213, '(41.815933131, -87.624642127)'),\n",
              " (7903289, 'HT133522', '2010-12-30', '083XX S KINGSTON AVE', '840', 'THEFT', 'FINANCIAL ID THEFT: OVER $300', 'RESIDENCE', 0, 0, 423, 4, 7.0, 46.0, '6', 1194622.0, 1850125.0, 2010, 41.74366532, -87.56246276, '(41.743665322, -87.562462756)'),\n",
              " (10402076, 'HZ138551', '2016-02-02', '033XX W 66TH ST', '820', 'THEFT', '$500 AND UNDER', 'ALLEY', 0, 0, 831, 8, 15.0, 66.0, '6', 1155240.0, 1860661.0, 2016, 41.7734553, -87.70648047, '(41.773455295, -87.706480471)')]"
            ]
          },
          "execution_count": 13,
          "metadata": {},
          "output_type": "execute_result"
        }
      ],
      "source": [
        "%sql select * from  chicago_crime_data limit 5"
      ]
    },
    {
      "cell_type": "markdown",
      "metadata": {
        "id": "BH8zG964U2Uy"
      },
      "source": [
        "\n",
        "Double-click **here** for a hint\n",
        "\n",
        "<!--\n",
        "Query for the 'community area number' that has most number of incidents\n",
        "-->\n"
      ]
    },
    {
      "cell_type": "markdown",
      "metadata": {
        "id": "e7HBeHUgU2Uy"
      },
      "source": [
        "### Problem 9\n",
        "\n",
        "##### Use a sub-query to find the name of the community area with highest hardship index\n"
      ]
    },
    {
      "cell_type": "code",
      "execution_count": null,
      "metadata": {
        "tags": [],
        "id": "hTRQcw7dU2U6",
        "outputId": "86da2136-3dac-443a-92ff-e67c7bc4c9e4"
      },
      "outputs": [
        {
          "name": "stdout",
          "output_type": "stream",
          "text": [
            " * sqlite:///FinalDB.db\n",
            "Done.\n"
          ]
        },
        {
          "data": {
            "text/html": [
              "<table>\n",
              "    <thead>\n",
              "        <tr>\n",
              "            <th>COMMUNITY_AREA_NAME</th>\n",
              "        </tr>\n",
              "    </thead>\n",
              "    <tbody>\n",
              "        <tr>\n",
              "            <td>Riverdale</td>\n",
              "        </tr>\n",
              "    </tbody>\n",
              "</table>"
            ],
            "text/plain": [
              "[('Riverdale',)]"
            ]
          },
          "execution_count": 20,
          "metadata": {},
          "output_type": "execute_result"
        }
      ],
      "source": [
        "%sql select community_area_name from census_data where \\\n",
        "hardship_index=(select max(hardship_index) from census_data)"
      ]
    },
    {
      "cell_type": "markdown",
      "metadata": {
        "id": "NcXfBA25U2U6"
      },
      "source": [
        "### Problem 10\n",
        "\n",
        "##### Use a sub-query to determine the Community Area Name with most number of crimes?\n"
      ]
    },
    {
      "cell_type": "code",
      "execution_count": null,
      "metadata": {
        "tags": [],
        "id": "l3VBZelgU2U6",
        "outputId": "39fd9f64-ef61-4153-d72b-9a14975a408b"
      },
      "outputs": [
        {
          "name": "stdout",
          "output_type": "stream",
          "text": [
            " * sqlite:///FinalDB.db\n",
            "Done.\n"
          ]
        },
        {
          "data": {
            "text/html": [
              "<table>\n",
              "    <thead>\n",
              "        <tr>\n",
              "            <th>COMMUNITY_AREA_NAME</th>\n",
              "        </tr>\n",
              "    </thead>\n",
              "    <tbody>\n",
              "        <tr>\n",
              "            <td>Austin</td>\n",
              "        </tr>\n",
              "    </tbody>\n",
              "</table>"
            ],
            "text/plain": [
              "[('Austin',)]"
            ]
          },
          "execution_count": 21,
          "metadata": {},
          "output_type": "execute_result"
        }
      ],
      "source": [
        "%sql select community_area_name from census_data where \\\n",
        "community_area_number=(select community_area_number from chicago_crime_data group by community_area_number\\\n",
        "                       order by count(*) desc nulls last limit 1)"
      ]
    }
  ],
  "metadata": {
    "kernelspec": {
      "display_name": "Python 3 (ipykernel)",
      "language": "python",
      "name": "python3"
    },
    "language_info": {
      "codemirror_mode": {
        "name": "ipython",
        "version": 3
      },
      "file_extension": ".py",
      "mimetype": "text/x-python",
      "name": "python",
      "nbconvert_exporter": "python",
      "pygments_lexer": "ipython3",
      "version": "3.11.5"
    },
    "colab": {
      "provenance": [],
      "include_colab_link": true
    }
  },
  "nbformat": 4,
  "nbformat_minor": 0
}